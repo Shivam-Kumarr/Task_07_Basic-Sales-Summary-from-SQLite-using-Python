{
 "cells": [
  {
   "cell_type": "code",
   "execution_count": 3,
   "id": "1937f2ab",
   "metadata": {},
   "outputs": [],
   "source": [
    "import sqlite3\n",
    "import pandas as pd\n",
    "import matplotlib.pyplot as plt\n",
    "import os\n"
   ]
  },
  {
   "cell_type": "code",
   "execution_count": 4,
   "id": "dc72306f",
   "metadata": {},
   "outputs": [],
   "source": [
    "# --- 1. Create the SQLite Database and Table ---\n",
    "db_file = \"sales_data.db\""
   ]
  },
  {
   "cell_type": "code",
   "execution_count": null,
   "id": "4e53fe4f",
   "metadata": {},
   "outputs": [],
   "source": [
    "# Remove the database file if it already exists to ensure a clean start\n",
    "if os.path.exists(db_file):\n",
    "    os.remove(db_file)\n",
    "    print(f\"Removed existing database file: {db_file}\")\n"
   ]
  },
  {
   "cell_type": "code",
   "execution_count": 18,
   "id": "65102214",
   "metadata": {},
   "outputs": [],
   "source": [
    "# --- 2. Connect to sales_data.db---\n",
    "conn = sqlite3.connect(db_file)\n",
    "cursor = conn.cursor()"
   ]
  },
  {
   "cell_type": "code",
   "execution_count": 7,
   "id": "df0b4589",
   "metadata": {},
   "outputs": [
    {
     "data": {
      "text/plain": [
       "<sqlite3.Cursor at 0x1d6bc28b640>"
      ]
     },
     "execution_count": 7,
     "metadata": {},
     "output_type": "execute_result"
    }
   ],
   "source": [
    "cursor.execute('''\n",
    "    CREATE TABLE IF NOT EXISTS sales (\n",
    "        id INTEGER PRIMARY KEY AUTOINCREMENT,\n",
    "        product TEXT NOT NULL,\n",
    "        quantity INTEGER NOT NULL,\n",
    "        price REAL NOT NULL,\n",
    "        sale_date TEXT NOT NULL\n",
    "    )\n",
    "''')"
   ]
  },
  {
   "cell_type": "code",
   "execution_count": 9,
   "id": "708af3dd",
   "metadata": {},
   "outputs": [
    {
     "name": "stdout",
     "output_type": "stream",
     "text": [
      "Database 'sales_data.db' created and populated with sample data.\n"
     ]
    }
   ],
   "source": [
    "# Insert sample data\n",
    "sales_data = [\n",
    "    ('Laptop', 2, 1200.00, '2025-05-01'),\n",
    "    ('Mouse', 5, 25.00, '2025-05-01'),\n",
    "    ('Keyboard', 3, 75.00, '2025-05-02'),\n",
    "    ('Monitor', 1, 300.00, '2025-05-02'),\n",
    "    ('Laptop', 1, 1200.00, '2025-05-03'),\n",
    "    ('Mouse', 3, 25.00, '2025-05-03'),\n",
    "    ('Webcam', 2, 50.00, '2025-05-04')\n",
    "]\n",
    "\n",
    "cursor.executemany(\"INSERT INTO sales (product, quantity, price, sale_date) VALUES (?, ?, ?, ?)\", sales_data)\n",
    "conn.commit()\n",
    "print(f\"Database '{db_file}' created and populated with sample data.\")"
   ]
  },
  {
   "cell_type": "code",
   "execution_count": null,
   "id": "2d0f36a6",
   "metadata": {},
   "outputs": [],
   "source": [
    "# --- 3. Run SQL Queries ---"
   ]
  },
  {
   "cell_type": "code",
   "execution_count": null,
   "id": "337ecab6",
   "metadata": {},
   "outputs": [],
   "source": [
    "# Query 1: Sales summary by product\n",
    "product_summary_query = \"\"\"\n",
    "    SELECT\n",
    "        product,\n",
    "        SUM(quantity) AS total_qty,\n",
    "        SUM(quantity * price) AS revenue\n",
    "    FROM\n",
    "        sales\n",
    "    GROUP BY\n",
    "        product\n",
    "    ORDER BY\n",
    "        revenue DESC\n",
    "\"\"\""
   ]
  },
  {
   "cell_type": "code",
   "execution_count": 14,
   "id": "46bb10e3",
   "metadata": {},
   "outputs": [],
   "source": [
    "# Query 2: Overall sales summary\n",
    "overall_summary_query = \"\"\"\n",
    "    SELECT\n",
    "        SUM(quantity) AS total_quantity_sold_overall,\n",
    "        SUM(quantity * price) AS total_revenue_overall\n",
    "    FROM\n",
    "        sales\n",
    "\"\"\""
   ]
  },
  {
   "cell_type": "code",
   "execution_count": 15,
   "id": "24a561e9",
   "metadata": {},
   "outputs": [
    {
     "name": "stdout",
     "output_type": "stream",
     "text": [
      "\n",
      "--- Sales Summary by Product ---\n",
      "    product  total_qty  revenue\n",
      "0    Laptop          3   3600.0\n",
      "1   Monitor          1    300.0\n",
      "2  Keyboard          3    225.0\n",
      "3     Mouse          8    200.0\n",
      "4    Webcam          2    100.0\n",
      "\n",
      "--- Overall Sales Summary ---\n",
      "   total_quantity_sold_overall  total_revenue_overall\n",
      "0                           17                 4425.0\n"
     ]
    }
   ],
   "source": [
    "# --- 4. Load into pandas DataFrames ---\n",
    "\n",
    "print(\"\\n--- Sales Summary by Product ---\")\n",
    "df_product_summary = pd.read_sql_query(product_summary_query, conn)\n",
    "print(df_product_summary)\n",
    "\n",
    "print(\"\\n--- Overall Sales Summary ---\")\n",
    "df_overall_summary = pd.read_sql_query(overall_summary_query, conn)\n",
    "print(df_overall_summary)"
   ]
  },
  {
   "cell_type": "code",
   "execution_count": 16,
   "id": "3b11ce9b",
   "metadata": {},
   "outputs": [
    {
     "name": "stdout",
     "output_type": "stream",
     "text": [
      "\n",
      "Bar chart saved as 'sales_chart.png'\n"
     ]
    },
    {
     "data": {
      "image/png": "[encoded data removed]",
      "text/plain": [
       "<Figure size 1000x600 with 1 Axes>"
      ]
     },
     "metadata": {},
     "output_type": "display_data"
    }
   ],
   "source": [
    "# --- 5. Plot simple bar chart and save ---\n",
    "if not df_product_summary.empty:\n",
    "    plt.figure(figsize=(10, 6))\n",
    "    df_product_summary.plot(kind='bar', x='product', y='revenue', legend=False, ax=plt.gca(), color='skyblue')\n",
    "    plt.title('Total Revenue by Product')\n",
    "    plt.xlabel('Product')\n",
    "    plt.ylabel('Revenue ($)')\n",
    "    plt.xticks(rotation=45, ha='right')\n",
    "    plt.tight_layout()\n",
    "    chart_file = \"sales_chart.png\"\n",
    "    plt.savefig(chart_file)\n",
    "    print(f\"\\nBar chart saved as '{chart_file}'\")\n",
    "else:\n",
    "    print(\"\\nNo data to plot for product summary.\")\n"
   ]
  },
  {
   "cell_type": "code",
   "execution_count": 17,
   "id": "d3976a66",
   "metadata": {},
   "outputs": [
    {
     "name": "stdout",
     "output_type": "stream",
     "text": [
      "Database connection closed.\n"
     ]
    }
   ],
   "source": [
    "# Close the database connection\n",
    "conn.close()\n",
    "print(\"Database connection closed.\")"
   ]
  }
 ],
 "metadata": {
  "kernelspec": {
   "display_name": "Elevate_venv",
   "language": "python",
   "name": "python3"
  },
  "language_info": {
   "codemirror_mode": {
    "name": "ipython",
    "version": 3
   },
   "file_extension": ".py",
   "mimetype": "text/x-python",
   "name": "python",
   "nbconvert_exporter": "python",
   "pygments_lexer": "ipython3",
   "version": "3.12.7"
  }
 },
 "nbformat": 4,
 "nbformat_minor": 5
}
